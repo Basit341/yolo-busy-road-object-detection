{
 "cells": [
  {
   "cell_type": "code",
   "execution_count": 1,
   "metadata": {},
   "outputs": [
    {
     "name": "stdout",
     "output_type": "stream",
     "text": [
      "c:\\Users\\PMYLS\\Desktop\\projects\\convayer_belt\n"
     ]
    }
   ],
   "source": [
    "import os\n",
    "HOME = os.getcwd()\n",
    "print(HOME)"
   ]
  },
  {
   "cell_type": "code",
   "execution_count": 3,
   "metadata": {},
   "outputs": [],
   "source": [
    "# !mkdir {HOME}/images\n",
    "# !mkdir {HOME}/videos"
   ]
  },
  {
   "cell_type": "code",
   "execution_count": 4,
   "metadata": {},
   "outputs": [],
   "source": [
    "# !pip install moviepy"
   ]
  },
  {
   "cell_type": "markdown",
   "metadata": {},
   "source": [
    "### Splitting video into test and train"
   ]
  },
  {
   "cell_type": "code",
   "execution_count": 2,
   "metadata": {},
   "outputs": [
    {
     "name": "stdout",
     "output_type": "stream",
     "text": [
      "Moviepy - Running:\n",
      ">>> \"+ \" \".join(cmd)\n",
      "Moviepy - Command successful\n",
      "Moviepy - Running:\n",
      ">>> \"+ \" \".join(cmd)\n",
      "Moviepy - Command successful\n"
     ]
    }
   ],
   "source": [
    "from moviepy.video.io.ffmpeg_tools import ffmpeg_extract_subclip\n",
    "\n",
    "# Define the path to your input video\n",
    "input_video_path = \"raw_video/IMG_6706.MOV\"\n",
    "\n",
    "# Define the start and end times for the first split (in seconds)\n",
    "split1_start_time = 0\n",
    "split1_end_time = 14\n",
    "\n",
    "# Define the start and end times for the second split (in seconds)\n",
    "split2_start_time = 14\n",
    "split2_end_time = 18\n",
    "\n",
    "# Define the paths for the output videos\n",
    "output_video1_path = \"videos/video1.mov\"\n",
    "output_video2_path = \"videos/video2.mov\"\n",
    "\n",
    "# Split the first part of the video\n",
    "ffmpeg_extract_subclip(input_video_path, split1_start_time, split1_end_time, targetname=output_video1_path)\n",
    "\n",
    "# Split the second part of the video\n",
    "ffmpeg_extract_subclip(input_video_path, split2_start_time, split2_end_time, targetname=output_video2_path)\n"
   ]
  },
  {
   "cell_type": "code",
   "execution_count": 5,
   "metadata": {},
   "outputs": [],
   "source": [
    "VIDEO_DIR_PATH = f\"{HOME}/videos\"\n",
    "IMAGE_DIR_PATH = f\"{HOME}/images/video1.mov\"\n",
    "FRAME_STRIDE = 2"
   ]
  },
  {
   "cell_type": "markdown",
   "metadata": {},
   "source": [
    "### Creating images from video"
   ]
  },
  {
   "cell_type": "code",
   "execution_count": 6,
   "metadata": {},
   "outputs": [
    {
     "data": {
      "application/vnd.jupyter.widget-view+json": {
       "model_id": "6a5e808571a04d4c89db58ef8015055c",
       "version_major": 2,
       "version_minor": 0
      },
      "text/plain": [
       "  0%|          | 0/1 [00:00<?, ?it/s]"
      ]
     },
     "metadata": {},
     "output_type": "display_data"
    }
   ],
   "source": [
    "import supervision as sv\n",
    "from tqdm.notebook import tqdm\n",
    "\n",
    "video_paths = sv.list_files_with_extensions(\n",
    "    directory=VIDEO_DIR_PATH, \n",
    "    extensions=[\"mov\", \"webm\"])\n",
    "\n",
    "TEST_VIDEO_PATHS, TRAIN_VIDEO_PATHS = video_paths[:1], video_paths[1:]\n",
    "\n",
    "for video_path in tqdm(TRAIN_VIDEO_PATHS):\n",
    "    video_name = video_path.stem\n",
    "    image_name_pattern = video_name + \"-{:05d}.png\"\n",
    "    with sv.ImageSink(target_dir_path=IMAGE_DIR_PATH, image_name_pattern=image_name_pattern) as sink:\n",
    "        for image in sv.get_video_frames_generator(source_path=str(video_path), stride=FRAME_STRIDE):\n",
    "            sink.save_image(image=image)"
   ]
  },
  {
   "cell_type": "code",
   "execution_count": null,
   "metadata": {},
   "outputs": [],
   "source": []
  }
 ],
 "metadata": {
  "kernelspec": {
   "display_name": "envyolo",
   "language": "python",
   "name": "python3"
  },
  "language_info": {
   "codemirror_mode": {
    "name": "ipython",
    "version": 3
   },
   "file_extension": ".py",
   "mimetype": "text/x-python",
   "name": "python",
   "nbconvert_exporter": "python",
   "pygments_lexer": "ipython3",
   "version": "3.11.3"
  },
  "orig_nbformat": 4
 },
 "nbformat": 4,
 "nbformat_minor": 2
}
